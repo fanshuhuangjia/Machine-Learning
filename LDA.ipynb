{
 "cells": [
  {
   "cell_type": "code",
   "execution_count": 11,
   "metadata": {},
   "outputs": [],
   "source": [
    "import os  \n",
    "import sys  \n",
    "import numpy as np  \n",
    "import operator  \n",
    "import matplotlib.pyplot as plt"
   ]
  },
  {
   "cell_type": "code",
   "execution_count": 12,
   "metadata": {},
   "outputs": [],
   "source": [
    "group1 = np.random.random((8,2))*5+10\n",
    "group2 = np.random.random((8,2))*5+1\n",
    "#随机生成一组训练集"
   ]
  },
  {
   "cell_type": "code",
   "execution_count": 13,
   "metadata": {},
   "outputs": [],
   "source": [
    "X1 = group1\n",
    "y1 = np.ones((8,1))\n",
    "X0 = group2\n",
    "y0 = np.zeros((8,1))\n",
    "#X,表示某样本的横纵坐标,Y表示属于的类别分别为1和0"
   ]
  },
  {
   "cell_type": "code",
   "execution_count": 14,
   "metadata": {},
   "outputs": [
    {
     "data": {
      "text/plain": [
       "<matplotlib.collections.PathCollection at 0x1a9dcea1e10>"
      ]
     },
     "execution_count": 14,
     "metadata": {},
     "output_type": "execute_result"
    },
    {
     "data": {
      "image/png": "[encoded data removed]",
      "text/plain": [
       "<Figure size 432x288 with 1 Axes>"
      ]
     },
     "metadata": {
      "needs_background": "light"
     },
     "output_type": "display_data"
    }
   ],
   "source": [
    "plt.scatter(X1[:,0],X1[:,1],c='r')\n",
    "plt.scatter(X0[:,0],X0[:,1],c='g')"
   ]
  },
  {
   "cell_type": "code",
   "execution_count": 15,
   "metadata": {},
   "outputs": [],
   "source": [
    "mean1=np.array([np.mean(X1[:,0]),np.mean(X1[:,1])]) #类型为1的所有点的均值向量\n",
    "mean0=np.array([np.mean(X0[:,0]),np.mean(X0[:,1])]) #类型为0的所有点的均值向量"
   ]
  },
  {
   "cell_type": "code",
   "execution_count": 16,
   "metadata": {},
   "outputs": [],
   "source": [
    "from numpy import mat\n",
    "m1=np.shape(X1)[0]\n",
    "sw=np.zeros(shape=(2,2))\n",
    "for i in range(m1):\n",
    "    xsmean=mat(X1[i,:]-mean1)\n",
    "    sw+=xsmean.transpose()*xsmean\n",
    "m0=np.shape(X0)[0]\n",
    "for i in range(m0):\n",
    "    xsmean=mat(X0[i,:]-mean0)\n",
    "    sw+=xsmean.transpose()*xsmean\n",
    "#计算类内散度矩阵sw\n",
    "w=(mean0-mean1)*(mat(sw).I)\n",
    "#通过奇异值分解计算w"
   ]
  },
  {
   "cell_type": "code",
   "execution_count": 17,
   "metadata": {},
   "outputs": [
    {
     "data": {
      "text/plain": [
       "matrix([[-0.59349937, -0.27161641]])"
      ]
     },
     "execution_count": 17,
     "metadata": {},
     "output_type": "execute_result"
    }
   ],
   "source": [
    "w"
   ]
  },
  {
   "cell_type": "code",
   "execution_count": 18,
   "metadata": {},
   "outputs": [
    {
     "data": {
      "text/plain": [
       "[<matplotlib.lines.Line2D at 0x1a9df191c18>]"
      ]
     },
     "execution_count": 18,
     "metadata": {},
     "output_type": "execute_result"
    },
    {
     "data": {
      "image/png": "[encoded data removed]",
      "text/plain": [
       "<Figure size 432x288 with 1 Axes>"
      ]
     },
     "metadata": {
      "needs_background": "light"
     },
     "output_type": "display_data"
    }
   ],
   "source": [
    "plt.scatter(X1[:,0],X1[:,1],c='r')\n",
    "plt.scatter(X0[:,0],X0[:,1],c='g')\n",
    "x=np.arange(0,15,0.1)\n",
    "y=np.array((-w[0,0]*x)/w[0,1])\n",
    "plt.plot(x,y)"
   ]
  },
  {
   "cell_type": "code",
   "execution_count": null,
   "metadata": {},
   "outputs": [],
   "source": []
  }
 ],
 "metadata": {
  "kernelspec": {
   "display_name": "Python 3",
   "language": "python",
   "name": "python3"
  },
  "language_info": {
   "codemirror_mode": {
    "name": "ipython",
    "version": 3
   },
   "file_extension": ".py",
   "mimetype": "text/x-python",
   "name": "python",
   "nbconvert_exporter": "python",
   "pygments_lexer": "ipython3",
   "version": "3.7.3"
  }
 },
 "nbformat": 4,
 "nbformat_minor": 2
}
